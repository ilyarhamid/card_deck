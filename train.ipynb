{
 "cells": [
  {
   "cell_type": "code",
   "execution_count": 10,
   "metadata": {},
   "outputs": [
    {
     "name": "stdout",
     "output_type": "stream",
     "text": [
      "The autoreload extension is already loaded. To reload it, use:\n",
      "  %reload_ext autoreload\n"
     ]
    }
   ],
   "source": [
    "%load_ext autoreload\n",
    "%autoreload 2\n",
    "import pandas as pd\n",
    "from deck import Deck\n",
    "import time"
   ]
  },
  {
   "cell_type": "code",
   "execution_count": 2,
   "metadata": {},
   "outputs": [],
   "source": [
    "def check_table(t):\n",
    "    convenient_list = [ele.value for ele in t]\n",
    "    i = convenient_list.index(convenient_list[-1])\n",
    "    if i != len(convenient_list)-1:\n",
    "        return i"
   ]
  },
  {
   "cell_type": "code",
   "execution_count": 37,
   "metadata": {},
   "outputs": [],
   "source": [
    "def run(num_pair=1, ratio=0.5):\n",
    "    deck = Deck(num_pair=num_pair)\n",
    "    n_1 = int(round(ratio * num_pair * 52))\n",
    "    deck.shuffle()\n",
    "    counter = 0\n",
    "    hand1 = []\n",
    "    hand2 = []\n",
    "    table = []\n",
    "    for i in range(n_1):\n",
    "        hand1.append(deck.deal())\n",
    "\n",
    "    while len(deck.deck) != 0:\n",
    "        hand2.append(deck.deal())\n",
    "    while True:\n",
    "        for h in [hand1, hand2]:\n",
    "            counter += 1\n",
    "            table.append(h.pop(0))\n",
    "            index = check_table(table)\n",
    "            if index or index == 0:\n",
    "                h.extend(table[index:])\n",
    "                table = table[0:index]\n",
    "        if len(hand1) * len(hand2) == 0:\n",
    "            return counter"
   ]
  },
  {
   "cell_type": "code",
   "execution_count": 54,
   "metadata": {},
   "outputs": [
    {
     "name": "stdout",
     "output_type": "stream",
     "text": [
      "10000\r"
     ]
    }
   ],
   "source": [
    "ls = []\n",
    "ave_list = []\n",
    "s = 0\n",
    "for i in range(10000):\n",
    "    print(i+1, end='\\r')\n",
    "    result = run(ratio=0.95)\n",
    "    ls.append(result)\n",
    "    s += result\n",
    "    ave_list.append(s/(i+1))\n",
    "df = pd.DataFrame({\"result\":ls, \"average\":ave_list})"
   ]
  },
  {
   "cell_type": "code",
   "execution_count": 55,
   "metadata": {},
   "outputs": [
    {
     "data": {
      "text/plain": [
       "count    10000.000000\n",
       "mean        42.869400\n",
       "std        147.437412\n",
       "min          6.000000\n",
       "25%          6.000000\n",
       "50%          6.000000\n",
       "75%         20.000000\n",
       "max       2552.000000\n",
       "Name: result, dtype: float64"
      ]
     },
     "execution_count": 55,
     "metadata": {},
     "output_type": "execute_result"
    }
   ],
   "source": [
    "df[\"result\"].describe()"
   ]
  },
  {
   "cell_type": "code",
   "execution_count": 56,
   "metadata": {},
   "outputs": [
    {
     "data": {
      "text/plain": [
       "<AxesSubplot: >"
      ]
     },
     "execution_count": 56,
     "metadata": {},
     "output_type": "execute_result"
    },
    {
     "data": {
      "image/png": "[encoded data removed]",
      "text/plain": [
       "<Figure size 640x480 with 1 Axes>"
      ]
     },
     "metadata": {},
     "output_type": "display_data"
    }
   ],
   "source": [
    "df[\"average\"].plot()"
   ]
  },
  {
   "cell_type": "code",
   "execution_count": null,
   "metadata": {},
   "outputs": [],
   "source": []
  }
 ],
 "metadata": {
  "kernelspec": {
   "display_name": "Python 3 (ipykernel)",
   "language": "python",
   "name": "python3"
  },
  "language_info": {
   "codemirror_mode": {
    "name": "ipython",
    "version": 3
   },
   "file_extension": ".py",
   "mimetype": "text/x-python",
   "name": "python",
   "nbconvert_exporter": "python",
   "pygments_lexer": "ipython3",
   "version": "3.9.15"
  }
 },
 "nbformat": 4,
 "nbformat_minor": 4
}
